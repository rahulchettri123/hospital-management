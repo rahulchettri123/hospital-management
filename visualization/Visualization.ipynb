{
 "cells": [
  {
   "cell_type": "code",
   "execution_count": 382,
   "id": "430affee",
   "metadata": {},
   "outputs": [],
   "source": [
    "import pandas as pd \n",
    "import matplotlib.pyplot as plt\n",
    "import numpy as np\n",
    "%matplotlib inline"
   ]
  },
  {
   "cell_type": "code",
   "execution_count": 383,
   "id": "e47d8cee",
   "metadata": {},
   "outputs": [],
   "source": [
    "data = pd.read_csv(\"patient.csv\")"
   ]
  },
  {
   "cell_type": "markdown",
   "id": "b5ed930c",
   "metadata": {},
   "source": [
    "### Cleaning up the data!\n"
   ]
  },
  {
   "cell_type": "code",
   "execution_count": 384,
   "id": "a3522684",
   "metadata": {},
   "outputs": [
    {
     "data": {
      "text/plain": [
       "1"
      ]
     },
     "execution_count": 384,
     "metadata": {},
     "output_type": "execute_result"
    }
   ],
   "source": [
    "data.duplicated().sum()"
   ]
  },
  {
   "cell_type": "markdown",
   "id": "b3c14475",
   "metadata": {},
   "source": [
    "There are 1 duplicated row"
   ]
  },
  {
   "cell_type": "code",
   "execution_count": 385,
   "id": "c04ee0f2",
   "metadata": {},
   "outputs": [],
   "source": [
    "data = data.drop_duplicates() #remove duplicate"
   ]
  },
  {
   "cell_type": "code",
   "execution_count": 386,
   "id": "c835b74b",
   "metadata": {},
   "outputs": [
    {
     "data": {
      "text/plain": [
       "0"
      ]
     },
     "execution_count": 386,
     "metadata": {},
     "output_type": "execute_result"
    }
   ],
   "source": [
    "data.duplicated().sum()#checking again"
   ]
  },
  {
   "cell_type": "markdown",
   "id": "c662258a",
   "metadata": {},
   "source": [
    "#### Missing Values"
   ]
  },
  {
   "cell_type": "code",
   "execution_count": 387,
   "id": "0e6ffb50",
   "metadata": {},
   "outputs": [
    {
     "name": "stdout",
     "output_type": "stream",
     "text": [
      "patient_id - 0.0%\n",
      "first_name - 0.0%\n",
      "last_name - 0.0%\n",
      "age - 0.0%\n",
      "email - 0.0%\n",
      "phone - 0.0%\n",
      "address - 0.0%\n",
      "surgery_done - 0.0%\n",
      "assigned_room - 0.0%\n",
      "no_of_nights - 0.0%\n",
      "is_discharged - 0.0%\n",
      "employee_id - 0.0%\n",
      "check_in_time - 0.0%\n",
      "appointment_end_time - 0.0%\n"
     ]
    }
   ],
   "source": [
    "#Checking Null Values\n",
    "for col in data.columns:\n",
    "    pct_missing = data[col].isnull().mean()\n",
    "    print(f'{col} - {pct_missing :.1%}')"
   ]
  },
  {
   "cell_type": "markdown",
   "id": "4989579f",
   "metadata": {},
   "source": [
    "there is no missing values "
   ]
  },
  {
   "cell_type": "markdown",
   "id": "3c499e98",
   "metadata": {},
   "source": [
    "#### Convert column with proper datatype"
   ]
  },
  {
   "cell_type": "code",
   "execution_count": 388,
   "id": "512a2750",
   "metadata": {},
   "outputs": [],
   "source": [
    "data['check_in_time'] = pd.to_datetime(data['check_in_time'])\n",
    "data['appointment_end_time'] = pd.to_datetime(data['appointment_end_time'])\n"
   ]
  },
  {
   "cell_type": "code",
   "execution_count": 389,
   "id": "1246e695",
   "metadata": {},
   "outputs": [],
   "source": [
    "#creating a separate column for check in day\n",
    "data['Day'] = data['check_in_time'].dt.day_name()\n"
   ]
  },
  {
   "cell_type": "code",
   "execution_count": 390,
   "id": "605966b8",
   "metadata": {},
   "outputs": [
    {
     "data": {
      "text/html": [
       "<div>\n",
       "<style scoped>\n",
       "    .dataframe tbody tr th:only-of-type {\n",
       "        vertical-align: middle;\n",
       "    }\n",
       "\n",
       "    .dataframe tbody tr th {\n",
       "        vertical-align: top;\n",
       "    }\n",
       "\n",
       "    .dataframe thead th {\n",
       "        text-align: right;\n",
       "    }\n",
       "</style>\n",
       "<table border=\"1\" class=\"dataframe\">\n",
       "  <thead>\n",
       "    <tr style=\"text-align: right;\">\n",
       "      <th></th>\n",
       "      <th>patient_id</th>\n",
       "      <th>first_name</th>\n",
       "      <th>last_name</th>\n",
       "      <th>age</th>\n",
       "      <th>email</th>\n",
       "      <th>phone</th>\n",
       "      <th>address</th>\n",
       "      <th>surgery_done</th>\n",
       "      <th>assigned_room</th>\n",
       "      <th>no_of_nights</th>\n",
       "      <th>is_discharged</th>\n",
       "      <th>employee_id</th>\n",
       "      <th>check_in_time</th>\n",
       "      <th>appointment_end_time</th>\n",
       "      <th>Day</th>\n",
       "    </tr>\n",
       "  </thead>\n",
       "  <tbody>\n",
       "    <tr>\n",
       "      <th>0</th>\n",
       "      <td>2000</td>\n",
       "      <td>Johnny</td>\n",
       "      <td>Ling</td>\n",
       "      <td>25</td>\n",
       "      <td>johnnylang@gmail.com</td>\n",
       "      <td>(234)347-8970</td>\n",
       "      <td>123 Main St Boston MA</td>\n",
       "      <td>Yes</td>\n",
       "      <td>General ward</td>\n",
       "      <td>3</td>\n",
       "      <td>Yes</td>\n",
       "      <td>17001</td>\n",
       "      <td>2023-01-20 10:26:12</td>\n",
       "      <td>2023-01-20 11:26:12</td>\n",
       "      <td>Friday</td>\n",
       "    </tr>\n",
       "    <tr>\n",
       "      <th>1</th>\n",
       "      <td>2001</td>\n",
       "      <td>Simphon</td>\n",
       "      <td>Everest</td>\n",
       "      <td>64</td>\n",
       "      <td>simphon78@gmail.com</td>\n",
       "      <td>(617)346-9349</td>\n",
       "      <td>456 Oak St Virginia</td>\n",
       "      <td>No</td>\n",
       "      <td>Private ward</td>\n",
       "      <td>7</td>\n",
       "      <td>No</td>\n",
       "      <td>17002</td>\n",
       "      <td>2023-01-21 13:59:53</td>\n",
       "      <td>2023-01-21 14:29:53</td>\n",
       "      <td>Saturday</td>\n",
       "    </tr>\n",
       "    <tr>\n",
       "      <th>2</th>\n",
       "      <td>2002</td>\n",
       "      <td>Erik</td>\n",
       "      <td>Douglas</td>\n",
       "      <td>45</td>\n",
       "      <td>erik33@gmai.com</td>\n",
       "      <td>(857)546-4568</td>\n",
       "      <td>789 Park Ave Boston MA</td>\n",
       "      <td>Yes</td>\n",
       "      <td>Premium Deluxe</td>\n",
       "      <td>5</td>\n",
       "      <td>Yes</td>\n",
       "      <td>17003</td>\n",
       "      <td>2023-01-20 03:05:49</td>\n",
       "      <td>2023-01-20 03:35:49</td>\n",
       "      <td>Friday</td>\n",
       "    </tr>\n",
       "    <tr>\n",
       "      <th>3</th>\n",
       "      <td>2003</td>\n",
       "      <td>Charles</td>\n",
       "      <td>Simon</td>\n",
       "      <td>34</td>\n",
       "      <td>simonc@yahoo.com</td>\n",
       "      <td>(857)469-0980</td>\n",
       "      <td>333 Pine St Boston MA</td>\n",
       "      <td>Yes</td>\n",
       "      <td>Private ward</td>\n",
       "      <td>9</td>\n",
       "      <td>Yes</td>\n",
       "      <td>17004</td>\n",
       "      <td>2023-01-20 08:46:08</td>\n",
       "      <td>2023-01-20 09:16:08</td>\n",
       "      <td>Friday</td>\n",
       "    </tr>\n",
       "    <tr>\n",
       "      <th>4</th>\n",
       "      <td>2004</td>\n",
       "      <td>James</td>\n",
       "      <td>Mitchel</td>\n",
       "      <td>22</td>\n",
       "      <td>jamesmitchell@gmail.com</td>\n",
       "      <td>(857)846-0987</td>\n",
       "      <td>812 Willow St Virginia</td>\n",
       "      <td>No</td>\n",
       "      <td>Premium Deluxe</td>\n",
       "      <td>2</td>\n",
       "      <td>No</td>\n",
       "      <td>17011</td>\n",
       "      <td>2023-01-21 04:15:39</td>\n",
       "      <td>2023-01-21 04:45:39</td>\n",
       "      <td>Saturday</td>\n",
       "    </tr>\n",
       "  </tbody>\n",
       "</table>\n",
       "</div>"
      ],
      "text/plain": [
       "   patient_id first_name last_name  age                    email  \\\n",
       "0        2000     Johnny      Ling   25     johnnylang@gmail.com   \n",
       "1        2001    Simphon   Everest   64      simphon78@gmail.com   \n",
       "2        2002       Erik   Douglas   45          erik33@gmai.com   \n",
       "3        2003    Charles     Simon   34         simonc@yahoo.com   \n",
       "4        2004      James   Mitchel   22  jamesmitchell@gmail.com   \n",
       "\n",
       "           phone                 address surgery_done   assigned_room  \\\n",
       "0  (234)347-8970   123 Main St Boston MA          Yes    General ward   \n",
       "1  (617)346-9349     456 Oak St Virginia           No    Private ward   \n",
       "2  (857)546-4568  789 Park Ave Boston MA          Yes  Premium Deluxe   \n",
       "3  (857)469-0980   333 Pine St Boston MA          Yes    Private ward   \n",
       "4  (857)846-0987  812 Willow St Virginia           No  Premium Deluxe   \n",
       "\n",
       "   no_of_nights is_discharged  employee_id       check_in_time  \\\n",
       "0             3           Yes        17001 2023-01-20 10:26:12   \n",
       "1             7            No        17002 2023-01-21 13:59:53   \n",
       "2             5           Yes        17003 2023-01-20 03:05:49   \n",
       "3             9           Yes        17004 2023-01-20 08:46:08   \n",
       "4             2            No        17011 2023-01-21 04:15:39   \n",
       "\n",
       "  appointment_end_time       Day  \n",
       "0  2023-01-20 11:26:12    Friday  \n",
       "1  2023-01-21 14:29:53  Saturday  \n",
       "2  2023-01-20 03:35:49    Friday  \n",
       "3  2023-01-20 09:16:08    Friday  \n",
       "4  2023-01-21 04:45:39  Saturday  "
      ]
     },
     "execution_count": 390,
     "metadata": {},
     "output_type": "execute_result"
    }
   ],
   "source": [
    "data.head()"
   ]
  },
  {
   "cell_type": "markdown",
   "id": "d2f36a3b",
   "metadata": {},
   "source": [
    "#### 1) What time should we increase staff count  in the hospital to maximize patient's care?"
   ]
  },
  {
   "cell_type": "code",
   "execution_count": 391,
   "id": "2965ed1d",
   "metadata": {},
   "outputs": [],
   "source": [
    "data['Hour']=data['check_in_time'].dt.hour"
   ]
  },
  {
   "cell_type": "code",
   "execution_count": 392,
   "id": "abd42682",
   "metadata": {},
   "outputs": [],
   "source": [
    "busytime = data.groupby('Hour').count().reset_index()"
   ]
  },
  {
   "cell_type": "code",
   "execution_count": 393,
   "id": "bd14aba0",
   "metadata": {},
   "outputs": [
    {
     "data": {
      "image/png": "[encoded data removed]",
      "text/plain": [
       "<Figure size 432x288 with 1 Axes>"
      ]
     },
     "metadata": {
      "needs_background": "light"
     },
     "output_type": "display_data"
    }
   ],
   "source": [
    "from matplotlib.ticker import StrMethodFormatter\n",
    "plt.plot(busytime['Hour'],busytime['patient_id'])\n",
    "plt.xlabel('Hour')\n",
    "plt.ylabel('no_of_patient')\n",
    "plt.grid()\n",
    "plt.show()"
   ]
  },
  {
   "cell_type": "markdown",
   "id": "d90ba64a",
   "metadata": {},
   "source": [
    "Based on the data analysis, it appears that patients tend to check into the hospital more frequently between the hours of 2:30 PM and 6PM. One possible explanation for this trend is that during these hours, traffic is typically heavier in Boston, which may result in an increased likelihood of accidents and injuries requiring medical attention. However, further research would be needed to confirm this hypothesis."
   ]
  },
  {
   "cell_type": "markdown",
   "id": "3d3b08e9",
   "metadata": {},
   "source": [
    "By increasing the number of staff during the peak check-in hours, the hospital may be able to improve the overall patient experience by reducing wait times and ensuring that patients receive timely medical attention. However, it's important to note that increasing staffing levels can also be costly, so any decisions to do so should be carefully evaluated in light of the hospital's budget constraints and patient demand."
   ]
  },
  {
   "cell_type": "markdown",
   "id": "e67fc0b3",
   "metadata": {},
   "source": [
    "#### 2) which day has more number of cases?"
   ]
  },
  {
   "cell_type": "code",
   "execution_count": 394,
   "id": "e1f0831a",
   "metadata": {},
   "outputs": [
    {
     "data": {
      "text/html": [
       "<div>\n",
       "<style scoped>\n",
       "    .dataframe tbody tr th:only-of-type {\n",
       "        vertical-align: middle;\n",
       "    }\n",
       "\n",
       "    .dataframe tbody tr th {\n",
       "        vertical-align: top;\n",
       "    }\n",
       "\n",
       "    .dataframe thead th {\n",
       "        text-align: right;\n",
       "    }\n",
       "</style>\n",
       "<table border=\"1\" class=\"dataframe\">\n",
       "  <thead>\n",
       "    <tr style=\"text-align: right;\">\n",
       "      <th></th>\n",
       "      <th>Day</th>\n",
       "      <th>patient_id</th>\n",
       "    </tr>\n",
       "  </thead>\n",
       "  <tbody>\n",
       "    <tr>\n",
       "      <th>0</th>\n",
       "      <td>Friday</td>\n",
       "      <td>56</td>\n",
       "    </tr>\n",
       "    <tr>\n",
       "      <th>1</th>\n",
       "      <td>Monday</td>\n",
       "      <td>5</td>\n",
       "    </tr>\n",
       "    <tr>\n",
       "      <th>2</th>\n",
       "      <td>Saturday</td>\n",
       "      <td>56</td>\n",
       "    </tr>\n",
       "    <tr>\n",
       "      <th>3</th>\n",
       "      <td>Sunday</td>\n",
       "      <td>3</td>\n",
       "    </tr>\n",
       "    <tr>\n",
       "      <th>4</th>\n",
       "      <td>Thursday</td>\n",
       "      <td>6</td>\n",
       "    </tr>\n",
       "    <tr>\n",
       "      <th>5</th>\n",
       "      <td>Tuesday</td>\n",
       "      <td>9</td>\n",
       "    </tr>\n",
       "    <tr>\n",
       "      <th>6</th>\n",
       "      <td>Wednesday</td>\n",
       "      <td>7</td>\n",
       "    </tr>\n",
       "  </tbody>\n",
       "</table>\n",
       "</div>"
      ],
      "text/plain": [
       "         Day  patient_id\n",
       "0     Friday          56\n",
       "1     Monday           5\n",
       "2   Saturday          56\n",
       "3     Sunday           3\n",
       "4   Thursday           6\n",
       "5    Tuesday           9\n",
       "6  Wednesday           7"
      ]
     },
     "execution_count": 394,
     "metadata": {},
     "output_type": "execute_result"
    }
   ],
   "source": [
    "dayCases = data.groupby('Day').count()[['patient_id']].reset_index()\n",
    "dayCases.sort_values(by='Day')"
   ]
  },
  {
   "cell_type": "markdown",
   "id": "04fac028",
   "metadata": {},
   "source": [
    "The data shows a higher incidence of medical cases being reported on Fridays and Saturdays, which may be attributed to the fact that these days mark the end of the work week and people are more likely to be out socializing and engaging in recreational activities, which could lead to accidents. Additionally, the consumption of alcohol during parties and other gatherings may contribute to an increase in the number of accidents, including those resulting from drunk driving.\n",
    "\n"
   ]
  },
  {
   "cell_type": "markdown",
   "id": "4b7edcd0",
   "metadata": {},
   "source": [
    "#### 3) If we were to choose a doctor of the month based on the number of patients they have treated, which doctor would we select?"
   ]
  },
  {
   "cell_type": "markdown",
   "id": "5c3bf7b2",
   "metadata": {},
   "source": [
    "now since we don't have employee name in patient.csv , we can import Staff.csv file in order to get the name of the doctor"
   ]
  },
  {
   "cell_type": "code",
   "execution_count": 395,
   "id": "1a649307",
   "metadata": {},
   "outputs": [],
   "source": [
    "staff = pd.read_csv(\"staff.csv\")"
   ]
  },
  {
   "cell_type": "markdown",
   "id": "39e95a18",
   "metadata": {},
   "source": [
    "Let's first check which doctor has maximum count of patient"
   ]
  },
  {
   "cell_type": "code",
   "execution_count": 396,
   "id": "ecb57595",
   "metadata": {},
   "outputs": [
    {
     "data": {
      "text/html": [
       "<div>\n",
       "<style scoped>\n",
       "    .dataframe tbody tr th:only-of-type {\n",
       "        vertical-align: middle;\n",
       "    }\n",
       "\n",
       "    .dataframe tbody tr th {\n",
       "        vertical-align: top;\n",
       "    }\n",
       "\n",
       "    .dataframe thead th {\n",
       "        text-align: right;\n",
       "    }\n",
       "</style>\n",
       "<table border=\"1\" class=\"dataframe\">\n",
       "  <thead>\n",
       "    <tr style=\"text-align: right;\">\n",
       "      <th></th>\n",
       "      <th>employee_id</th>\n",
       "      <th>patient_id</th>\n",
       "    </tr>\n",
       "  </thead>\n",
       "  <tbody>\n",
       "    <tr>\n",
       "      <th>1</th>\n",
       "      <td>17002</td>\n",
       "      <td>13</td>\n",
       "    </tr>\n",
       "  </tbody>\n",
       "</table>\n",
       "</div>"
      ],
      "text/plain": [
       "   employee_id  patient_id\n",
       "1        17002          13"
      ]
     },
     "execution_count": 396,
     "metadata": {},
     "output_type": "execute_result"
    }
   ],
   "source": [
    "patient_count = data.groupby('employee_id').count().reset_index().sort_values(by = 'patient_id',ascending=False ).head(1)[['employee_id','patient_id']]\n",
    "patient_count"
   ]
  },
  {
   "cell_type": "markdown",
   "id": "10cba509",
   "metadata": {},
   "source": [
    "we can see that employee_with id 17002 has checked max number of patient in the month of january so we choose him "
   ]
  },
  {
   "cell_type": "markdown",
   "id": "d7b4c52a",
   "metadata": {},
   "source": [
    "now to get his name, lets find it in Staff table "
   ]
  },
  {
   "cell_type": "code",
   "execution_count": 397,
   "id": "475f8e19",
   "metadata": {},
   "outputs": [
    {
     "data": {
      "text/html": [
       "<div>\n",
       "<style scoped>\n",
       "    .dataframe tbody tr th:only-of-type {\n",
       "        vertical-align: middle;\n",
       "    }\n",
       "\n",
       "    .dataframe tbody tr th {\n",
       "        vertical-align: top;\n",
       "    }\n",
       "\n",
       "    .dataframe thead th {\n",
       "        text-align: right;\n",
       "    }\n",
       "</style>\n",
       "<table border=\"1\" class=\"dataframe\">\n",
       "  <thead>\n",
       "    <tr style=\"text-align: right;\">\n",
       "      <th></th>\n",
       "      <th>employee_id</th>\n",
       "      <th>branch_id</th>\n",
       "      <th>employee_first_name</th>\n",
       "      <th>employee_last_name</th>\n",
       "      <th>designation</th>\n",
       "      <th>email</th>\n",
       "      <th>phone_no</th>\n",
       "      <th>department_id</th>\n",
       "    </tr>\n",
       "  </thead>\n",
       "  <tbody>\n",
       "    <tr>\n",
       "      <th>1</th>\n",
       "      <td>17002</td>\n",
       "      <td>16001</td>\n",
       "      <td>Ella</td>\n",
       "      <td>Grey</td>\n",
       "      <td>Doctor</td>\n",
       "      <td>ella.gr@srk.org</td>\n",
       "      <td>(857)234-3554</td>\n",
       "      <td>102</td>\n",
       "    </tr>\n",
       "  </tbody>\n",
       "</table>\n",
       "</div>"
      ],
      "text/plain": [
       "   employee_id  branch_id employee_first_name employee_last_name designation  \\\n",
       "1        17002      16001                Ella               Grey      Doctor   \n",
       "\n",
       "             email       phone_no  department_id  \n",
       "1  ella.gr@srk.org  (857)234-3554            102  "
      ]
     },
     "execution_count": 397,
     "metadata": {},
     "output_type": "execute_result"
    }
   ],
   "source": [
    "doctor_of_the_month = staff[staff['employee_id']==17002]\n",
    "doctor_of_the_month"
   ]
  },
  {
   "cell_type": "markdown",
   "id": "99c6c5bf",
   "metadata": {},
   "source": [
    "#### So as per our findings we came to know that , Ella Grey is the doctor of the month"
   ]
  },
  {
   "cell_type": "markdown",
   "id": "d7caaca0",
   "metadata": {},
   "source": [
    "now let's find out which department is she from "
   ]
  },
  {
   "cell_type": "code",
   "execution_count": 398,
   "id": "d361a687",
   "metadata": {},
   "outputs": [],
   "source": [
    "department = pd.read_csv(\"department.csv\")#import department table"
   ]
  },
  {
   "cell_type": "markdown",
   "id": "08ee013a",
   "metadata": {},
   "source": [
    "since we know that the department id for ELLA GREY is 102"
   ]
  },
  {
   "cell_type": "code",
   "execution_count": 399,
   "id": "d09b171b",
   "metadata": {},
   "outputs": [
    {
     "data": {
      "text/html": [
       "<div>\n",
       "<style scoped>\n",
       "    .dataframe tbody tr th:only-of-type {\n",
       "        vertical-align: middle;\n",
       "    }\n",
       "\n",
       "    .dataframe tbody tr th {\n",
       "        vertical-align: top;\n",
       "    }\n",
       "\n",
       "    .dataframe thead th {\n",
       "        text-align: right;\n",
       "    }\n",
       "</style>\n",
       "<table border=\"1\" class=\"dataframe\">\n",
       "  <thead>\n",
       "    <tr style=\"text-align: right;\">\n",
       "      <th></th>\n",
       "      <th>department_id</th>\n",
       "      <th>name</th>\n",
       "    </tr>\n",
       "  </thead>\n",
       "  <tbody>\n",
       "    <tr>\n",
       "      <th>1</th>\n",
       "      <td>102</td>\n",
       "      <td>Gynecology</td>\n",
       "    </tr>\n",
       "  </tbody>\n",
       "</table>\n",
       "</div>"
      ],
      "text/plain": [
       "   department_id        name\n",
       "1            102  Gynecology"
      ]
     },
     "execution_count": 399,
     "metadata": {},
     "output_type": "execute_result"
    }
   ],
   "source": [
    "winningDepartment = department[department['department_id'] == 102]\n",
    "winningDepartment"
   ]
  },
  {
   "cell_type": "markdown",
   "id": "9e70409e",
   "metadata": {},
   "source": [
    "Ella Grey is from Gynecology department, Now let's have all the information together"
   ]
  },
  {
   "cell_type": "code",
   "execution_count": 400,
   "id": "661feedd",
   "metadata": {},
   "outputs": [
    {
     "data": {
      "text/html": [
       "<div>\n",
       "<style scoped>\n",
       "    .dataframe tbody tr th:only-of-type {\n",
       "        vertical-align: middle;\n",
       "    }\n",
       "\n",
       "    .dataframe tbody tr th {\n",
       "        vertical-align: top;\n",
       "    }\n",
       "\n",
       "    .dataframe thead th {\n",
       "        text-align: right;\n",
       "    }\n",
       "</style>\n",
       "<table border=\"1\" class=\"dataframe\">\n",
       "  <thead>\n",
       "    <tr style=\"text-align: right;\">\n",
       "      <th></th>\n",
       "      <th>employee_id</th>\n",
       "      <th>branch_id</th>\n",
       "      <th>employee_first_name</th>\n",
       "      <th>employee_last_name</th>\n",
       "      <th>designation</th>\n",
       "      <th>email</th>\n",
       "      <th>phone_no</th>\n",
       "      <th>department_id</th>\n",
       "      <th>department_name</th>\n",
       "    </tr>\n",
       "  </thead>\n",
       "  <tbody>\n",
       "    <tr>\n",
       "      <th>0</th>\n",
       "      <td>17002</td>\n",
       "      <td>16001</td>\n",
       "      <td>Ella</td>\n",
       "      <td>Grey</td>\n",
       "      <td>Doctor</td>\n",
       "      <td>ella.gr@srk.org</td>\n",
       "      <td>(857)234-3554</td>\n",
       "      <td>102</td>\n",
       "      <td>Gynecology</td>\n",
       "    </tr>\n",
       "  </tbody>\n",
       "</table>\n",
       "</div>"
      ],
      "text/plain": [
       "   employee_id  branch_id employee_first_name employee_last_name designation  \\\n",
       "0        17002      16001                Ella               Grey      Doctor   \n",
       "\n",
       "             email       phone_no  department_id department_name  \n",
       "0  ella.gr@srk.org  (857)234-3554            102      Gynecology  "
      ]
     },
     "execution_count": 400,
     "metadata": {},
     "output_type": "execute_result"
    }
   ],
   "source": [
    "winner = pd.merge(doctor_of_the_month, winningDepartment, on='department_id') #merging the table\n",
    "winner = winner.rename(columns={'name': 'department_name'})\n",
    "winner"
   ]
  },
  {
   "cell_type": "code",
   "execution_count": null,
   "id": "657eed30",
   "metadata": {},
   "outputs": [],
   "source": []
  }
 ],
 "metadata": {
  "kernelspec": {
   "display_name": "Python 3 (ipykernel)",
   "language": "python",
   "name": "python3"
  },
  "language_info": {
   "codemirror_mode": {
    "name": "ipython",
    "version": 3
   },
   "file_extension": ".py",
   "mimetype": "text/x-python",
   "name": "python",
   "nbconvert_exporter": "python",
   "pygments_lexer": "ipython3",
   "version": "3.9.12"
  }
 },
 "nbformat": 4,
 "nbformat_minor": 5
}
